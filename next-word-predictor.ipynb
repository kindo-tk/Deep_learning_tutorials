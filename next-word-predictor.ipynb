{
 "cells": [
  {
   "cell_type": "markdown",
   "id": "8a28c81e",
   "metadata": {
    "papermill": {
     "duration": 0.004127,
     "end_time": "2025-10-25T16:57:49.356289",
     "exception": false,
     "start_time": "2025-10-25T16:57:49.352162",
     "status": "completed"
    },
    "tags": []
   },
   "source": [
    "# Next word predictor"
   ]
  },
  {
   "cell_type": "markdown",
   "id": "6a5b016d",
   "metadata": {
    "papermill": {
     "duration": 0.002859,
     "end_time": "2025-10-25T16:57:49.362903",
     "exception": false,
     "start_time": "2025-10-25T16:57:49.360044",
     "status": "completed"
    },
    "tags": []
   },
   "source": [
    "### Importing the necessary libraries"
   ]
  },
  {
   "cell_type": "code",
   "execution_count": 1,
   "id": "58d77ea6",
   "metadata": {
    "execution": {
     "iopub.execute_input": "2025-10-25T16:57:49.369441Z",
     "iopub.status.busy": "2025-10-25T16:57:49.369242Z",
     "iopub.status.idle": "2025-10-25T16:58:05.677612Z",
     "shell.execute_reply": "2025-10-25T16:58:05.676885Z"
    },
    "papermill": {
     "duration": 16.313206,
     "end_time": "2025-10-25T16:58:05.679077",
     "exception": false,
     "start_time": "2025-10-25T16:57:49.365871",
     "status": "completed"
    },
    "tags": []
   },
   "outputs": [
    {
     "name": "stderr",
     "output_type": "stream",
     "text": [
      "2025-10-25 16:57:51.100524: E external/local_xla/xla/stream_executor/cuda/cuda_fft.cc:477] Unable to register cuFFT factory: Attempting to register factory for plugin cuFFT when one has already been registered\n",
      "WARNING: All log messages before absl::InitializeLog() is called are written to STDERR\n",
      "E0000 00:00:1761411471.345994      19 cuda_dnn.cc:8310] Unable to register cuDNN factory: Attempting to register factory for plugin cuDNN when one has already been registered\n",
      "E0000 00:00:1761411471.407871      19 cuda_blas.cc:1418] Unable to register cuBLAS factory: Attempting to register factory for plugin cuBLAS when one has already been registered\n"
     ]
    }
   ],
   "source": [
    "import re\n",
    "import numpy as np\n",
    "from tensorflow.keras.preprocessing.text import Tokenizer\n",
    "from tensorflow.keras.preprocessing.sequence import pad_sequences\n",
    "from tensorflow.keras.models import Sequential\n",
    "from tensorflow.keras.layers import Embedding, LSTM, Dense, Dropout\n",
    "from tensorflow.keras.regularizers import l2\n",
    "from tensorflow.keras.callbacks import EarlyStopping,ReduceLROnPlateau\n",
    "import pickle\n",
    "import matplotlib.pyplot as plt"
   ]
  },
  {
   "cell_type": "markdown",
   "id": "322ab3c2",
   "metadata": {
    "papermill": {
     "duration": 0.00309,
     "end_time": "2025-10-25T16:58:05.685571",
     "exception": false,
     "start_time": "2025-10-25T16:58:05.682481",
     "status": "completed"
    },
    "tags": []
   },
   "source": [
    "### Loading the dataset"
   ]
  },
  {
   "cell_type": "code",
   "execution_count": 2,
   "id": "c10a0772",
   "metadata": {
    "execution": {
     "iopub.execute_input": "2025-10-25T16:58:05.692554Z",
     "iopub.status.busy": "2025-10-25T16:58:05.692109Z",
     "iopub.status.idle": "2025-10-25T16:58:05.709852Z",
     "shell.execute_reply": "2025-10-25T16:58:05.708947Z"
    },
    "papermill": {
     "duration": 0.022668,
     "end_time": "2025-10-25T16:58:05.711086",
     "exception": false,
     "start_time": "2025-10-25T16:58:05.688418",
     "status": "completed"
    },
    "tags": []
   },
   "outputs": [
    {
     "name": "stdout",
     "output_type": "stream",
     "text": [
      "Sample text (first 200 characters): ﻿It was seven o’clock of a very warm evening in the Seeonee hills when\n",
      "Father Wolf woke up from his day’s rest, scratched himself, yawned, and\n",
      "spread out his paws one after the other to get rid of the\n"
     ]
    }
   ],
   "source": [
    "try:\n",
    "    with open('/kaggle/input/jungle-book/jungle_book.txt', 'r', encoding='utf-8') as file:\n",
    "        text = file.read()\n",
    "except FileNotFoundError:\n",
    "    print(\"File not found. Ensure 'jungle_book.txt' is uploaded to Kaggle.\")\n",
    "    exit()\n",
    "print(f\"Sample text (first 200 characters): {text[:200]}\")"
   ]
  },
  {
   "cell_type": "markdown",
   "id": "f59bab81",
   "metadata": {
    "execution": {
     "iopub.execute_input": "2025-10-25T15:42:32.145208Z",
     "iopub.status.busy": "2025-10-25T15:42:32.144900Z",
     "iopub.status.idle": "2025-10-25T15:42:32.150155Z",
     "shell.execute_reply": "2025-10-25T15:42:32.149149Z",
     "shell.execute_reply.started": "2025-10-25T15:42:32.145183Z"
    },
    "papermill": {
     "duration": 0.002913,
     "end_time": "2025-10-25T16:58:05.717173",
     "exception": false,
     "start_time": "2025-10-25T16:58:05.714260",
     "status": "completed"
    },
    "tags": []
   },
   "source": [
    "### Cleaning the text"
   ]
  },
  {
   "cell_type": "code",
   "execution_count": 3,
   "id": "bbf8ce44",
   "metadata": {
    "execution": {
     "iopub.execute_input": "2025-10-25T16:58:05.724768Z",
     "iopub.status.busy": "2025-10-25T16:58:05.723916Z",
     "iopub.status.idle": "2025-10-25T16:58:05.758117Z",
     "shell.execute_reply": "2025-10-25T16:58:05.757392Z"
    },
    "papermill": {
     "duration": 0.038913,
     "end_time": "2025-10-25T16:58:05.759221",
     "exception": false,
     "start_time": "2025-10-25T16:58:05.720308",
     "status": "completed"
    },
    "tags": []
   },
   "outputs": [
    {
     "name": "stdout",
     "output_type": "stream",
     "text": [
      "Cleaned text sample:\n",
      " it was seven oclock of a very warm evening in the seeonee hills when father wolf woke up from his days rest scratched himself yawned and spread out his paws one after the other to get rid of the sleep\n"
     ]
    }
   ],
   "source": [
    "import re\n",
    "\n",
    "def clean_text(text):\n",
    "    text = text.lower()\n",
    "    text = re.sub(r'[^\\w\\s\\']', '', text)  \n",
    "    text = re.sub(r'\\s+', ' ', text)\n",
    "    return text.strip()\n",
    "\n",
    "cleaned_text = clean_text(text)\n",
    "print(f\"Cleaned text sample:\\n {cleaned_text[:200]}\")"
   ]
  },
  {
   "cell_type": "markdown",
   "id": "244a0883",
   "metadata": {
    "papermill": {
     "duration": 0.003113,
     "end_time": "2025-10-25T16:58:05.765618",
     "exception": false,
     "start_time": "2025-10-25T16:58:05.762505",
     "status": "completed"
    },
    "tags": []
   },
   "source": [
    "### Tokenizing the text"
   ]
  },
  {
   "cell_type": "code",
   "execution_count": 4,
   "id": "c888415a",
   "metadata": {
    "execution": {
     "iopub.execute_input": "2025-10-25T16:58:05.772682Z",
     "iopub.status.busy": "2025-10-25T16:58:05.772421Z",
     "iopub.status.idle": "2025-10-25T16:58:05.825908Z",
     "shell.execute_reply": "2025-10-25T16:58:05.825140Z"
    },
    "papermill": {
     "duration": 0.058191,
     "end_time": "2025-10-25T16:58:05.826999",
     "exception": false,
     "start_time": "2025-10-25T16:58:05.768808",
     "status": "completed"
    },
    "tags": []
   },
   "outputs": [
    {
     "name": "stdout",
     "output_type": "stream",
     "text": [
      "Vocabulary size: 5055\n",
      "Sample word-to-index mapping: {'the': 1, 'and': 2, 'of': 3, 'to': 4, 'a': 5}\n"
     ]
    }
   ],
   "source": [
    "tokenizer = Tokenizer(filters='!\"#$%&()*+,-.:;<=>?@[\\\\]^_`{|}~\\t\\n')\n",
    "tokenizer.fit_on_texts([cleaned_text])\n",
    "word_index = tokenizer.word_index\n",
    "vocab_size = len(word_index) + 1\n",
    "print(f\"Vocabulary size: {vocab_size}\")\n",
    "print(f\"Sample word-to-index mapping: {dict(list(word_index.items())[:5])}\")"
   ]
  },
  {
   "cell_type": "markdown",
   "id": "5f51d5fc",
   "metadata": {
    "execution": {
     "iopub.execute_input": "2025-10-25T15:47:18.415018Z",
     "iopub.status.busy": "2025-10-25T15:47:18.414474Z",
     "iopub.status.idle": "2025-10-25T15:47:18.418271Z",
     "shell.execute_reply": "2025-10-25T15:47:18.417612Z",
     "shell.execute_reply.started": "2025-10-25T15:47:18.414966Z"
    },
    "papermill": {
     "duration": 0.002987,
     "end_time": "2025-10-25T16:58:05.833175",
     "exception": false,
     "start_time": "2025-10-25T16:58:05.830188",
     "status": "completed"
    },
    "tags": []
   },
   "source": [
    "### Creating input and output sequence"
   ]
  },
  {
   "cell_type": "code",
   "execution_count": 5,
   "id": "b2acbc2a",
   "metadata": {
    "execution": {
     "iopub.execute_input": "2025-10-25T16:58:05.840438Z",
     "iopub.status.busy": "2025-10-25T16:58:05.840220Z",
     "iopub.status.idle": "2025-10-25T16:58:06.265599Z",
     "shell.execute_reply": "2025-10-25T16:58:06.264659Z"
    },
    "papermill": {
     "duration": 0.430448,
     "end_time": "2025-10-25T16:58:06.266810",
     "exception": false,
     "start_time": "2025-10-25T16:58:05.836362",
     "status": "completed"
    },
    "tags": []
   },
   "outputs": [
    {
     "name": "stdout",
     "output_type": "stream",
     "text": [
      "Sample sequence: [['it'], ['it', 'was'], ['it', 'was', 'seven'], ['it', 'was', 'seven', 'oclock'], ['it', 'was', 'seven', 'oclock', 'of']] -> Next words: ['was', 'seven', 'oclock', 'of', 'a']\n",
      "Number of sequences: 253635, Number of next words: 253635\n"
     ]
    }
   ],
   "source": [
    "sequence_length = 5\n",
    "words = cleaned_text.split()\n",
    "sequences = []\n",
    "next_words = []\n",
    "\n",
    "for i in range(len(words) - sequence_length):\n",
    "    for j in range(1, sequence_length + 1):\n",
    "        if i + j < len(words):\n",
    "            seq = words[i:i + j]\n",
    "            next_word = words[i + j]\n",
    "            sequences.append(seq)\n",
    "            next_words.append(next_word)\n",
    "\n",
    "assert len(sequences) == len(next_words), f\"Mismatch: len(sequences)={len(sequences)}, len(next_words)={len(next_words)}\"\n",
    "print(f\"Sample sequence: {sequences[:5]} -> Next words: {next_words[:5]}\")\n",
    "print(f\"Number of sequences: {len(sequences)}, Number of next words: {len(next_words)}\")"
   ]
  },
  {
   "cell_type": "markdown",
   "id": "e9b2a0dd",
   "metadata": {
    "execution": {
     "iopub.execute_input": "2025-10-25T15:52:13.518612Z",
     "iopub.status.busy": "2025-10-25T15:52:13.517775Z",
     "iopub.status.idle": "2025-10-25T15:52:13.521761Z",
     "shell.execute_reply": "2025-10-25T15:52:13.521101Z",
     "shell.execute_reply.started": "2025-10-25T15:52:13.518584Z"
    },
    "papermill": {
     "duration": 0.003169,
     "end_time": "2025-10-25T16:58:06.273695",
     "exception": false,
     "start_time": "2025-10-25T16:58:06.270526",
     "status": "completed"
    },
    "tags": []
   },
   "source": [
    "### Converting word to token sequences"
   ]
  },
  {
   "cell_type": "code",
   "execution_count": 6,
   "id": "76f4b8aa",
   "metadata": {
    "execution": {
     "iopub.execute_input": "2025-10-25T16:58:06.281125Z",
     "iopub.status.busy": "2025-10-25T16:58:06.280875Z",
     "iopub.status.idle": "2025-10-25T16:58:07.131284Z",
     "shell.execute_reply": "2025-10-25T16:58:07.130407Z"
    },
    "papermill": {
     "duration": 0.855803,
     "end_time": "2025-10-25T16:58:07.132777",
     "exception": false,
     "start_time": "2025-10-25T16:58:06.276974",
     "status": "completed"
    },
    "tags": []
   },
   "outputs": [],
   "source": [
    "x = tokenizer.texts_to_sequences(sequences)\n",
    "y = tokenizer.texts_to_sequences([next_words])[0]"
   ]
  },
  {
   "cell_type": "markdown",
   "id": "8ea98bf4",
   "metadata": {
    "papermill": {
     "duration": 0.003731,
     "end_time": "2025-10-25T16:58:07.145987",
     "exception": false,
     "start_time": "2025-10-25T16:58:07.142256",
     "status": "completed"
    },
    "tags": []
   },
   "source": [
    "### Padding sequences"
   ]
  },
  {
   "cell_type": "code",
   "execution_count": 7,
   "id": "5efb472b",
   "metadata": {
    "execution": {
     "iopub.execute_input": "2025-10-25T16:58:07.154277Z",
     "iopub.status.busy": "2025-10-25T16:58:07.153486Z",
     "iopub.status.idle": "2025-10-25T16:58:07.574162Z",
     "shell.execute_reply": "2025-10-25T16:58:07.573184Z"
    },
    "papermill": {
     "duration": 0.426567,
     "end_time": "2025-10-25T16:58:07.575963",
     "exception": false,
     "start_time": "2025-10-25T16:58:07.149396",
     "status": "completed"
    },
    "tags": []
   },
   "outputs": [],
   "source": [
    "valid_pairs = [(x_seq, y_id) for x_seq, y_id in zip(x, y) if len(x_seq) > 0 and y_id != 0]\n",
    "if not valid_pairs:\n",
    "    raise ValueError(\"No valid sequences after tokenization. Check tokenizer or data.\")\n",
    "x, y = zip(*valid_pairs)\n",
    "x = list(x)\n",
    "y = list(y)"
   ]
  },
  {
   "cell_type": "code",
   "execution_count": 8,
   "id": "62d402f0",
   "metadata": {
    "execution": {
     "iopub.execute_input": "2025-10-25T16:58:07.583786Z",
     "iopub.status.busy": "2025-10-25T16:58:07.583472Z",
     "iopub.status.idle": "2025-10-25T16:58:08.032830Z",
     "shell.execute_reply": "2025-10-25T16:58:08.031767Z"
    },
    "papermill": {
     "duration": 0.454689,
     "end_time": "2025-10-25T16:58:08.034196",
     "exception": false,
     "start_time": "2025-10-25T16:58:07.579507",
     "status": "completed"
    },
    "tags": []
   },
   "outputs": [
    {
     "name": "stdout",
     "output_type": "stream",
     "text": [
      "After filtering - Number of sequences: 253353, Number of next words: 253353\n",
      "Shape of X: (253353, 5)\n",
      "Shape of y: (253353,)\n",
      "Sample X[0]: [ 0  0  0  0 18] -> Sample y[0]: 11\n"
     ]
    }
   ],
   "source": [
    "assert len(x) == len(y), f\"Tokenization mismatch: len(X)={len(x)}, len(y)={len(y)}\"\n",
    "print(f\"After filtering - Number of sequences: {len(x)}, Number of next words: {len(y)}\")\n",
    "\n",
    "x = pad_sequences(x, maxlen=sequence_length, padding='pre')\n",
    "y = np.array(y)\n",
    "print(f\"Shape of X: {x.shape}\")\n",
    "print(f\"Shape of y: {y.shape}\")\n",
    "print(f\"Sample X[0]: {x[0]} -> Sample y[0]: {y[0]}\")"
   ]
  },
  {
   "cell_type": "markdown",
   "id": "6a4ffe92",
   "metadata": {
    "papermill": {
     "duration": 0.003336,
     "end_time": "2025-10-25T16:58:08.041257",
     "exception": false,
     "start_time": "2025-10-25T16:58:08.037921",
     "status": "completed"
    },
    "tags": []
   },
   "source": [
    "### Building the model"
   ]
  },
  {
   "cell_type": "code",
   "execution_count": 9,
   "id": "ca6c95b6",
   "metadata": {
    "execution": {
     "iopub.execute_input": "2025-10-25T16:58:08.049117Z",
     "iopub.status.busy": "2025-10-25T16:58:08.048873Z",
     "iopub.status.idle": "2025-10-25T17:07:40.134256Z",
     "shell.execute_reply": "2025-10-25T17:07:40.133462Z"
    },
    "papermill": {
     "duration": 572.090957,
     "end_time": "2025-10-25T17:07:40.135676",
     "exception": false,
     "start_time": "2025-10-25T16:58:08.044719",
     "status": "completed"
    },
    "tags": []
   },
   "outputs": [
    {
     "name": "stderr",
     "output_type": "stream",
     "text": [
      "/usr/local/lib/python3.11/dist-packages/keras/src/layers/core/embedding.py:93: UserWarning: Do not pass an `input_shape`/`input_dim` argument to a layer. When using Sequential models, prefer using an `Input(shape)` object as the first layer in the model instead.\n",
      "  super().__init__(**kwargs)\n",
      "I0000 00:00:1761411488.954792      19 gpu_device.cc:2022] Created device /job:localhost/replica:0/task:0/device:GPU:0 with 13942 MB memory:  -> device: 0, name: Tesla T4, pci bus id: 0000:00:04.0, compute capability: 7.5\n",
      "I0000 00:00:1761411488.955552      19 gpu_device.cc:2022] Created device /job:localhost/replica:0/task:0/device:GPU:1 with 13942 MB memory:  -> device: 1, name: Tesla T4, pci bus id: 0000:00:05.0, compute capability: 7.5\n"
     ]
    },
    {
     "data": {
      "text/html": [
       "<pre style=\"white-space:pre;overflow-x:auto;line-height:normal;font-family:Menlo,'DejaVu Sans Mono',consolas,'Courier New',monospace\"><span style=\"font-weight: bold\">Model: \"sequential\"</span>\n",
       "</pre>\n"
      ],
      "text/plain": [
       "\u001b[1mModel: \"sequential\"\u001b[0m\n"
      ]
     },
     "metadata": {},
     "output_type": "display_data"
    },
    {
     "data": {
      "text/html": [
       "<pre style=\"white-space:pre;overflow-x:auto;line-height:normal;font-family:Menlo,'DejaVu Sans Mono',consolas,'Courier New',monospace\">┏━━━━━━━━━━━━━━━━━━━━━━━━━━━━━━━━━┳━━━━━━━━━━━━━━━━━━━━━━━━┳━━━━━━━━━━━━━━━┓\n",
       "┃<span style=\"font-weight: bold\"> Layer (type)                    </span>┃<span style=\"font-weight: bold\"> Output Shape           </span>┃<span style=\"font-weight: bold\">       Param # </span>┃\n",
       "┡━━━━━━━━━━━━━━━━━━━━━━━━━━━━━━━━━╇━━━━━━━━━━━━━━━━━━━━━━━━╇━━━━━━━━━━━━━━━┩\n",
       "│ embedding (<span style=\"color: #0087ff; text-decoration-color: #0087ff\">Embedding</span>)           │ (<span style=\"color: #00d7ff; text-decoration-color: #00d7ff\">None</span>, <span style=\"color: #00af00; text-decoration-color: #00af00\">5</span>, <span style=\"color: #00af00; text-decoration-color: #00af00\">128</span>)         │       <span style=\"color: #00af00; text-decoration-color: #00af00\">647,040</span> │\n",
       "├─────────────────────────────────┼────────────────────────┼───────────────┤\n",
       "│ lstm (<span style=\"color: #0087ff; text-decoration-color: #0087ff\">LSTM</span>)                     │ (<span style=\"color: #00d7ff; text-decoration-color: #00d7ff\">None</span>, <span style=\"color: #00af00; text-decoration-color: #00af00\">5</span>, <span style=\"color: #00af00; text-decoration-color: #00af00\">256</span>)         │       <span style=\"color: #00af00; text-decoration-color: #00af00\">394,240</span> │\n",
       "├─────────────────────────────────┼────────────────────────┼───────────────┤\n",
       "│ dropout (<span style=\"color: #0087ff; text-decoration-color: #0087ff\">Dropout</span>)               │ (<span style=\"color: #00d7ff; text-decoration-color: #00d7ff\">None</span>, <span style=\"color: #00af00; text-decoration-color: #00af00\">5</span>, <span style=\"color: #00af00; text-decoration-color: #00af00\">256</span>)         │             <span style=\"color: #00af00; text-decoration-color: #00af00\">0</span> │\n",
       "├─────────────────────────────────┼────────────────────────┼───────────────┤\n",
       "│ lstm_1 (<span style=\"color: #0087ff; text-decoration-color: #0087ff\">LSTM</span>)                   │ (<span style=\"color: #00d7ff; text-decoration-color: #00d7ff\">None</span>, <span style=\"color: #00af00; text-decoration-color: #00af00\">128</span>)            │       <span style=\"color: #00af00; text-decoration-color: #00af00\">197,120</span> │\n",
       "├─────────────────────────────────┼────────────────────────┼───────────────┤\n",
       "│ dropout_1 (<span style=\"color: #0087ff; text-decoration-color: #0087ff\">Dropout</span>)             │ (<span style=\"color: #00d7ff; text-decoration-color: #00d7ff\">None</span>, <span style=\"color: #00af00; text-decoration-color: #00af00\">128</span>)            │             <span style=\"color: #00af00; text-decoration-color: #00af00\">0</span> │\n",
       "├─────────────────────────────────┼────────────────────────┼───────────────┤\n",
       "│ dense (<span style=\"color: #0087ff; text-decoration-color: #0087ff\">Dense</span>)                   │ (<span style=\"color: #00d7ff; text-decoration-color: #00d7ff\">None</span>, <span style=\"color: #00af00; text-decoration-color: #00af00\">128</span>)            │        <span style=\"color: #00af00; text-decoration-color: #00af00\">16,512</span> │\n",
       "├─────────────────────────────────┼────────────────────────┼───────────────┤\n",
       "│ dense_1 (<span style=\"color: #0087ff; text-decoration-color: #0087ff\">Dense</span>)                 │ (<span style=\"color: #00d7ff; text-decoration-color: #00d7ff\">None</span>, <span style=\"color: #00af00; text-decoration-color: #00af00\">5055</span>)           │       <span style=\"color: #00af00; text-decoration-color: #00af00\">652,095</span> │\n",
       "└─────────────────────────────────┴────────────────────────┴───────────────┘\n",
       "</pre>\n"
      ],
      "text/plain": [
       "┏━━━━━━━━━━━━━━━━━━━━━━━━━━━━━━━━━┳━━━━━━━━━━━━━━━━━━━━━━━━┳━━━━━━━━━━━━━━━┓\n",
       "┃\u001b[1m \u001b[0m\u001b[1mLayer (type)                   \u001b[0m\u001b[1m \u001b[0m┃\u001b[1m \u001b[0m\u001b[1mOutput Shape          \u001b[0m\u001b[1m \u001b[0m┃\u001b[1m \u001b[0m\u001b[1m      Param #\u001b[0m\u001b[1m \u001b[0m┃\n",
       "┡━━━━━━━━━━━━━━━━━━━━━━━━━━━━━━━━━╇━━━━━━━━━━━━━━━━━━━━━━━━╇━━━━━━━━━━━━━━━┩\n",
       "│ embedding (\u001b[38;5;33mEmbedding\u001b[0m)           │ (\u001b[38;5;45mNone\u001b[0m, \u001b[38;5;34m5\u001b[0m, \u001b[38;5;34m128\u001b[0m)         │       \u001b[38;5;34m647,040\u001b[0m │\n",
       "├─────────────────────────────────┼────────────────────────┼───────────────┤\n",
       "│ lstm (\u001b[38;5;33mLSTM\u001b[0m)                     │ (\u001b[38;5;45mNone\u001b[0m, \u001b[38;5;34m5\u001b[0m, \u001b[38;5;34m256\u001b[0m)         │       \u001b[38;5;34m394,240\u001b[0m │\n",
       "├─────────────────────────────────┼────────────────────────┼───────────────┤\n",
       "│ dropout (\u001b[38;5;33mDropout\u001b[0m)               │ (\u001b[38;5;45mNone\u001b[0m, \u001b[38;5;34m5\u001b[0m, \u001b[38;5;34m256\u001b[0m)         │             \u001b[38;5;34m0\u001b[0m │\n",
       "├─────────────────────────────────┼────────────────────────┼───────────────┤\n",
       "│ lstm_1 (\u001b[38;5;33mLSTM\u001b[0m)                   │ (\u001b[38;5;45mNone\u001b[0m, \u001b[38;5;34m128\u001b[0m)            │       \u001b[38;5;34m197,120\u001b[0m │\n",
       "├─────────────────────────────────┼────────────────────────┼───────────────┤\n",
       "│ dropout_1 (\u001b[38;5;33mDropout\u001b[0m)             │ (\u001b[38;5;45mNone\u001b[0m, \u001b[38;5;34m128\u001b[0m)            │             \u001b[38;5;34m0\u001b[0m │\n",
       "├─────────────────────────────────┼────────────────────────┼───────────────┤\n",
       "│ dense (\u001b[38;5;33mDense\u001b[0m)                   │ (\u001b[38;5;45mNone\u001b[0m, \u001b[38;5;34m128\u001b[0m)            │        \u001b[38;5;34m16,512\u001b[0m │\n",
       "├─────────────────────────────────┼────────────────────────┼───────────────┤\n",
       "│ dense_1 (\u001b[38;5;33mDense\u001b[0m)                 │ (\u001b[38;5;45mNone\u001b[0m, \u001b[38;5;34m5055\u001b[0m)           │       \u001b[38;5;34m652,095\u001b[0m │\n",
       "└─────────────────────────────────┴────────────────────────┴───────────────┘\n"
      ]
     },
     "metadata": {},
     "output_type": "display_data"
    },
    {
     "data": {
      "text/html": [
       "<pre style=\"white-space:pre;overflow-x:auto;line-height:normal;font-family:Menlo,'DejaVu Sans Mono',consolas,'Courier New',monospace\"><span style=\"font-weight: bold\"> Total params: </span><span style=\"color: #00af00; text-decoration-color: #00af00\">1,907,007</span> (7.27 MB)\n",
       "</pre>\n"
      ],
      "text/plain": [
       "\u001b[1m Total params: \u001b[0m\u001b[38;5;34m1,907,007\u001b[0m (7.27 MB)\n"
      ]
     },
     "metadata": {},
     "output_type": "display_data"
    },
    {
     "data": {
      "text/html": [
       "<pre style=\"white-space:pre;overflow-x:auto;line-height:normal;font-family:Menlo,'DejaVu Sans Mono',consolas,'Courier New',monospace\"><span style=\"font-weight: bold\"> Trainable params: </span><span style=\"color: #00af00; text-decoration-color: #00af00\">1,907,007</span> (7.27 MB)\n",
       "</pre>\n"
      ],
      "text/plain": [
       "\u001b[1m Trainable params: \u001b[0m\u001b[38;5;34m1,907,007\u001b[0m (7.27 MB)\n"
      ]
     },
     "metadata": {},
     "output_type": "display_data"
    },
    {
     "data": {
      "text/html": [
       "<pre style=\"white-space:pre;overflow-x:auto;line-height:normal;font-family:Menlo,'DejaVu Sans Mono',consolas,'Courier New',monospace\"><span style=\"font-weight: bold\"> Non-trainable params: </span><span style=\"color: #00af00; text-decoration-color: #00af00\">0</span> (0.00 B)\n",
       "</pre>\n"
      ],
      "text/plain": [
       "\u001b[1m Non-trainable params: \u001b[0m\u001b[38;5;34m0\u001b[0m (0.00 B)\n"
      ]
     },
     "metadata": {},
     "output_type": "display_data"
    },
    {
     "name": "stdout",
     "output_type": "stream",
     "text": [
      "Epoch 1/500\n"
     ]
    },
    {
     "name": "stderr",
     "output_type": "stream",
     "text": [
      "I0000 00:00:1761411495.526879      61 cuda_dnn.cc:529] Loaded cuDNN version 90300\n"
     ]
    },
    {
     "name": "stdout",
     "output_type": "stream",
     "text": [
      "\u001b[1m6334/6334\u001b[0m \u001b[32m━━━━━━━━━━━━━━━━━━━━\u001b[0m\u001b[37m\u001b[0m \u001b[1m58s\u001b[0m 8ms/step - accuracy: 0.0664 - loss: 6.5211 - val_accuracy: 0.0678 - val_loss: 7.1239 - learning_rate: 0.0010\n",
      "Epoch 2/500\n",
      "\u001b[1m6334/6334\u001b[0m \u001b[32m━━━━━━━━━━━━━━━━━━━━\u001b[0m\u001b[37m\u001b[0m \u001b[1m51s\u001b[0m 8ms/step - accuracy: 0.0667 - loss: 6.3053 - val_accuracy: 0.0678 - val_loss: 7.3663 - learning_rate: 0.0010\n",
      "Epoch 3/500\n",
      "\u001b[1m6334/6334\u001b[0m \u001b[32m━━━━━━━━━━━━━━━━━━━━\u001b[0m\u001b[37m\u001b[0m \u001b[1m51s\u001b[0m 8ms/step - accuracy: 0.0670 - loss: 6.3044 - val_accuracy: 0.0678 - val_loss: 7.4613 - learning_rate: 0.0010\n",
      "Epoch 4/500\n",
      "\u001b[1m6334/6334\u001b[0m \u001b[32m━━━━━━━━━━━━━━━━━━━━\u001b[0m\u001b[37m\u001b[0m \u001b[1m51s\u001b[0m 8ms/step - accuracy: 0.0663 - loss: 6.3037 - val_accuracy: 0.0678 - val_loss: 7.4765 - learning_rate: 0.0010\n",
      "Epoch 5/500\n",
      "\u001b[1m6334/6334\u001b[0m \u001b[32m━━━━━━━━━━━━━━━━━━━━\u001b[0m\u001b[37m\u001b[0m \u001b[1m51s\u001b[0m 8ms/step - accuracy: 0.0670 - loss: 6.3033 - val_accuracy: 0.0678 - val_loss: 7.5236 - learning_rate: 0.0010\n",
      "Epoch 6/500\n",
      "\u001b[1m6328/6334\u001b[0m \u001b[32m━━━━━━━━━━━━━━━━━━━\u001b[0m\u001b[37m━\u001b[0m \u001b[1m0s\u001b[0m 7ms/step - accuracy: 0.0665 - loss: 6.2963\n",
      "Epoch 6: ReduceLROnPlateau reducing learning rate to 0.0005000000237487257.\n",
      "\u001b[1m6334/6334\u001b[0m \u001b[32m━━━━━━━━━━━━━━━━━━━━\u001b[0m\u001b[37m\u001b[0m \u001b[1m51s\u001b[0m 8ms/step - accuracy: 0.0665 - loss: 6.2963 - val_accuracy: 0.0678 - val_loss: 7.5308 - learning_rate: 0.0010\n",
      "Epoch 7/500\n",
      "\u001b[1m6334/6334\u001b[0m \u001b[32m━━━━━━━━━━━━━━━━━━━━\u001b[0m\u001b[37m\u001b[0m \u001b[1m51s\u001b[0m 8ms/step - accuracy: 0.0675 - loss: 6.2740 - val_accuracy: 0.0678 - val_loss: 7.5928 - learning_rate: 5.0000e-04\n",
      "Epoch 8/500\n",
      "\u001b[1m6334/6334\u001b[0m \u001b[32m━━━━━━━━━━━━━━━━━━━━\u001b[0m\u001b[37m\u001b[0m \u001b[1m52s\u001b[0m 8ms/step - accuracy: 0.0666 - loss: 6.2355 - val_accuracy: 0.0678 - val_loss: 7.6517 - learning_rate: 5.0000e-04\n",
      "Epoch 9/500\n",
      "\u001b[1m6334/6334\u001b[0m \u001b[32m━━━━━━━━━━━━━━━━━━━━\u001b[0m\u001b[37m\u001b[0m \u001b[1m51s\u001b[0m 8ms/step - accuracy: 0.0670 - loss: 6.1912 - val_accuracy: 0.0678 - val_loss: 7.7551 - learning_rate: 5.0000e-04\n",
      "Epoch 10/500\n",
      "\u001b[1m6334/6334\u001b[0m \u001b[32m━━━━━━━━━━━━━━━━━━━━\u001b[0m\u001b[37m\u001b[0m \u001b[1m51s\u001b[0m 8ms/step - accuracy: 0.0685 - loss: 6.1602 - val_accuracy: 0.0664 - val_loss: 7.8132 - learning_rate: 5.0000e-04\n",
      "Epoch 11/500\n",
      "\u001b[1m6330/6334\u001b[0m \u001b[32m━━━━━━━━━━━━━━━━━━━\u001b[0m\u001b[37m━\u001b[0m \u001b[1m0s\u001b[0m 7ms/step - accuracy: 0.0716 - loss: 6.1255\n",
      "Epoch 11: ReduceLROnPlateau reducing learning rate to 0.0002500000118743628.\n",
      "\u001b[1m6334/6334\u001b[0m \u001b[32m━━━━━━━━━━━━━━━━━━━━\u001b[0m\u001b[37m\u001b[0m \u001b[1m51s\u001b[0m 8ms/step - accuracy: 0.0716 - loss: 6.1255 - val_accuracy: 0.0648 - val_loss: 7.8446 - learning_rate: 5.0000e-04\n",
      "Epoch 11: early stopping\n",
      "Restoring model weights from the end of the best epoch: 1.\n"
     ]
    },
    {
     "data": {
      "image/png": "[encoded data removed]",
      "text/plain": [
       "<Figure size 640x480 with 1 Axes>"
      ]
     },
     "metadata": {},
     "output_type": "display_data"
    }
   ],
   "source": [
    "embedding_dim = 128\n",
    "model = Sequential()\n",
    "model.add(Embedding(vocab_size, embedding_dim, input_shape=(sequence_length,)))\n",
    "model.add(LSTM(256, return_sequences=True, kernel_regularizer=l2(0.001)))\n",
    "model.add(Dropout(0.2))\n",
    "model.add(LSTM(128, kernel_regularizer=l2(0.001)))\n",
    "model.add(Dropout(0.2))\n",
    "model.add(Dense(128, activation='relu', kernel_regularizer=l2(0.001)))\n",
    "model.add(Dense(vocab_size, activation='softmax'))\n",
    "\n",
    "# Compiling the model\n",
    "model.compile(loss='sparse_categorical_crossentropy', optimizer='adam', metrics=['accuracy'])\n",
    "\n",
    "# Model summary\n",
    "model.summary()\n",
    "\n",
    "# Defining early stopping\n",
    "early_stopping = EarlyStopping(monitor='val_loss', patience=10, restore_best_weights=True, verbose = 1)\n",
    "reduce_lr = ReduceLROnPlateau(monitor='val_loss', factor=0.5, patience=5, min_lr=1e-6, verbose=1)\n",
    "# Train the model\n",
    "history = model.fit(\n",
    "    x, y,\n",
    "    batch_size=32,\n",
    "    epochs=500,\n",
    "    validation_split=0.2,\n",
    "    callbacks=[early_stopping,reduce_lr],\n",
    "    verbose=1\n",
    ")\n",
    "\n",
    "# Plot training history\n",
    "plt.plot(history.history['loss'], label='Training Loss')\n",
    "plt.plot(history.history['val_loss'], label='Validation Loss')\n",
    "plt.title('Model Loss')\n",
    "plt.xlabel('Epoch')\n",
    "plt.ylabel('Loss')\n",
    "plt.legend()\n",
    "plt.show()"
   ]
  },
  {
   "cell_type": "markdown",
   "id": "019bdb9b",
   "metadata": {
    "papermill": {
     "duration": 0.427358,
     "end_time": "2025-10-25T17:07:41.114890",
     "exception": false,
     "start_time": "2025-10-25T17:07:40.687532",
     "status": "completed"
    },
    "tags": []
   },
   "source": [
    "### Saving the model"
   ]
  },
  {
   "cell_type": "code",
   "execution_count": 10,
   "id": "0648c8f1",
   "metadata": {
    "execution": {
     "iopub.execute_input": "2025-10-25T17:07:41.951121Z",
     "iopub.status.busy": "2025-10-25T17:07:41.950806Z",
     "iopub.status.idle": "2025-10-25T17:07:42.035672Z",
     "shell.execute_reply": "2025-10-25T17:07:42.034739Z"
    },
    "papermill": {
     "duration": 0.508162,
     "end_time": "2025-10-25T17:07:42.037151",
     "exception": false,
     "start_time": "2025-10-25T17:07:41.528989",
     "status": "completed"
    },
    "tags": []
   },
   "outputs": [],
   "source": [
    "model.save('/kaggle/working/next_word_model.h5')\n",
    "with open('/kaggle/working/tokenizer.pkl', 'wb') as handle:\n",
    "    pickle.dump(tokenizer, handle, protocol=pickle.HIGHEST_PROTOCOL)\n",
    "with open('/kaggle/working/sequence_length.txt', 'w') as f:\n",
    "    f.write(str(sequence_length))"
   ]
  }
 ],
 "metadata": {
  "kaggle": {
   "accelerator": "nvidiaTeslaT4",
   "dataSources": [
    {
     "datasetId": 8571023,
     "sourceId": 13499142,
     "sourceType": "datasetVersion"
    }
   ],
   "dockerImageVersionId": 31154,
   "isGpuEnabled": true,
   "isInternetEnabled": true,
   "language": "python",
   "sourceType": "notebook"
  },
  "kernelspec": {
   "display_name": "Python 3",
   "language": "python",
   "name": "python3"
  },
  "language_info": {
   "codemirror_mode": {
    "name": "ipython",
    "version": 3
   },
   "file_extension": ".py",
   "mimetype": "text/x-python",
   "name": "python",
   "nbconvert_exporter": "python",
   "pygments_lexer": "ipython3",
   "version": "3.11.13"
  },
  "papermill": {
   "default_parameters": {},
   "duration": 600.227981,
   "end_time": "2025-10-25T17:07:45.792096",
   "environment_variables": {},
   "exception": null,
   "input_path": "__notebook__.ipynb",
   "output_path": "__notebook__.ipynb",
   "parameters": {},
   "start_time": "2025-10-25T16:57:45.564115",
   "version": "2.6.0"
  }
 },
 "nbformat": 4,
 "nbformat_minor": 5
}
